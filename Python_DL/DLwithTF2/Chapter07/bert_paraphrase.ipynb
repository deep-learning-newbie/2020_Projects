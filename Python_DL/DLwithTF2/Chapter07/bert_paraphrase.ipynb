{
 "cells": [
  {
   "cell_type": "code",
   "execution_count": 4,
   "metadata": {},
   "outputs": [],
   "source": [
    "import os \n",
    "import tensorflow as tf \n",
    "import tensorflow_datasets as tfds \n",
    "import gensim.downloader as api\n",
    "from gensim.models import Word2Vec"
   ]
  },
  {
   "cell_type": "markdown",
   "metadata": {},
   "source": [
    "# Create Embedding with Text8"
   ]
  },
  {
   "cell_type": "code",
   "execution_count": 8,
   "metadata": {},
   "outputs": [],
   "source": [
    "info = api.info('text8')\n",
    "assert(len(info) > 0)\n",
    "\n",
    "dataset = api.load('text8')\n",
    "model = Word2Vec(dataset)\n",
    "\n",
    "model.save('~/.keras/models/text8-word2vec.bin')"
   ]
  },
  {
   "cell_type": "markdown",
   "metadata": {},
   "source": [
    "# Exploring Text8 Embedding"
   ]
  },
  {
   "cell_type": "code",
   "execution_count": 10,
   "metadata": {},
   "outputs": [],
   "source": [
    "from gensim.models import KeyedVectors\n",
    "\n",
    "def print_most_similar(word_conf_pairs, k):\n",
    "    for i, (word, conf) in enumerate(word_conf_pairs):\n",
    "        print(\"{:.3f} {:s}\".format(conf, word))\n",
    "        if i >= k - 1:\n",
    "            break\n",
    "    \n",
    "    if k < len(word_conf_pairs):\n",
    "        print('...')"
   ]
  },
  {
   "cell_type": "code",
   "execution_count": 11,
   "metadata": {},
   "outputs": [
    {
     "output_type": "stream",
     "name": "stdout",
     "text": "['anarchism', 'originated', 'as', 'a', 'term', 'of', 'abuse', 'first', 'used', 'against']\n# words similar to king\n0.735 prince\n0.707 throne\n0.706 queen\n0.684 kings\n0.675 emperor\n...\n"
    }
   ],
   "source": [
    "model = KeyedVectors.load('~/.keras/models/text8-word2vec.bin')\n",
    "word_vectors = model.wv \n",
    "\n",
    "# get words in the vocabulary\n",
    "words = word_vectors.vocab.keys()\n",
    "print([x for i, x in enumerate(words) if i < 10])\n",
    "assert('king' in words)\n",
    "\n",
    "print('# words similar to king')\n",
    "print_most_similar(word_vectors.most_similar('king'), 5)"
   ]
  },
  {
   "cell_type": "code",
   "execution_count": 13,
   "metadata": {},
   "outputs": [
    {
     "output_type": "stream",
     "name": "stdout",
     "text": "# vector arithmetic with words (cosine similarity)\n# france + berlin - paris = ?\n0.807 germany\n...\n"
    }
   ],
   "source": [
    "print('# vector arithmetic with words (cosine similarity)')\n",
    "print('# france + berlin - paris = ?')\n",
    "print_most_similar(word_vectors.most_similar(positive=['france', 'berlin'], negative=['paris']), 1)"
   ]
  },
  {
   "cell_type": "code",
   "execution_count": 14,
   "metadata": {},
   "outputs": [
    {
     "output_type": "stream",
     "name": "stdout",
     "text": "# find odd one out\n# [hindus, parsis, singapore, christians]\nsingapore\n"
    }
   ],
   "source": [
    "print('# find odd one out')\n",
    "print('# [hindus, parsis, singapore, christians]')\n",
    "print(word_vectors.doesnt_match(['hindus', 'parsis', 'singapore', 'christians']))"
   ]
  },
  {
   "cell_type": "code",
   "execution_count": 19,
   "metadata": {},
   "outputs": [
    {
     "output_type": "stream",
     "name": "stdout",
     "text": "# similarity between words\nsimilarity(man, woman) = 0.767\nsimilarity(man, dog) = 0.404\nsimilarity(man, whale) = 0.280\nsimilarity(man, tree) = 0.302\nsimilarity(man, men) = 0.495\nsimilarity(man, man) = 1.000\n"
    }
   ],
   "source": [
    "print('# similarity between words')\n",
    "for word in ['woman', 'dog', 'whale', 'tree', 'men', 'man']:\n",
    "    print('similarity({:s}, {:s}) = {:.3f}'.format('man', word, word_vectors.similarity('man', word)))"
   ]
  },
  {
   "cell_type": "code",
   "execution_count": 20,
   "metadata": {},
   "outputs": [
    {
     "output_type": "stream",
     "name": "stdout",
     "text": "\n# output vector obtained directly, shape:  (100,)\n"
    }
   ],
   "source": [
    "vec_song = word_vectors['song']\n",
    "print('\\n# output vector obtained directly, shape: ', vec_song.shape)"
   ]
  },
  {
   "cell_type": "code",
   "execution_count": 22,
   "metadata": {},
   "outputs": [
    {
     "output_type": "stream",
     "name": "stdout",
     "text": "\n# output vector obtained directly, shape:  (100,)\n"
    }
   ],
   "source": [
    "vec_song_2 = word_vectors.word_vec('song', use_norm=True)\n",
    "print('\\n# output vector obtained directly, shape: ', vec_song_2.shape)"
   ]
  },
  {
   "cell_type": "code",
   "execution_count": null,
   "metadata": {},
   "outputs": [],
   "source": []
  }
 ],
 "metadata": {
  "language_info": {
   "codemirror_mode": {
    "name": "ipython",
    "version": 3
   },
   "file_extension": ".py",
   "mimetype": "text/x-python",
   "name": "python",
   "nbconvert_exporter": "python",
   "pygments_lexer": "ipython3",
   "version": "3.6.9-final"
  },
  "orig_nbformat": 2,
  "kernelspec": {
   "name": "python36964bitpy3venv2d141099d5944d30a30973a7685a490a",
   "display_name": "Python 3.6.9 64-bit ('py3': venv)"
  }
 },
 "nbformat": 4,
 "nbformat_minor": 2
}