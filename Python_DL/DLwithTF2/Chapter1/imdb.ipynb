{
 "cells": [
  {
   "cell_type": "code",
   "execution_count": 1,
   "metadata": {},
   "outputs": [],
   "source": [
    "# import essential packages\n",
    "\n",
    "import tensorflow as tf\n",
    "from tensorflow.keras import datasets, layers, models, preprocessing\n",
    "\n",
    "import os \n",
    "import math \n",
    "import numpy as np"
   ]
  },
  {
   "cell_type": "code",
   "execution_count": 2,
   "metadata": {},
   "outputs": [],
   "source": [
    "# define global values\n",
    "max_len = 200\n",
    "n_words = 10000\n",
    "dim_embedding = 256 \n",
    "EPOCHS = 20\n",
    "BATCH_SIZE=500\n",
    "\n",
    "def load_data():\n",
    "    # load data\n",
    "    (X_train, y_train), (X_test, y_test) = datasets.imdb.load_data(num_words=n_words)\n",
    "\n",
    "    # Pad sequences with max_len\n",
    "    X_train = preprocessing.sequence.pad_sequences(X_train, maxlen=max_len)\n",
    "    X_test = preprocessing.sequence.pad_sequences(X_test, maxlen=max_len)\n",
    "\n",
    "    return (X_train, y_train), (X_test, y_test)"
   ]
  },
  {
   "cell_type": "code",
   "execution_count": 3,
   "metadata": {},
   "outputs": [],
   "source": [
    "# build model\n",
    "def build_model():\n",
    "    model = models.Sequential()\n",
    "    # Input: Embedding Layer\n",
    "    # The model will take as input aninteger matrix of size (batch, input_length)\n",
    "    # The model will output dimension (input_length, dim_embedding)\n",
    "    # The largest integer in the input should be no larger than n_words (vocabulary size)\n",
    "    model.add(layers.Embedding(n_words, dim_embedding, input_length=max_len))\n",
    "    model.add(layers.Dropout(0.3))\n",
    "\n",
    "    # take the maximum value of either feature vector from each of the n_words features\n",
    "    model.add(layers.GlobalMaxPooling1D())\n",
    "    model.add(layers.Dense(128, activation='relu'))\n",
    "    model.add(layers.Dropout(0.5))\n",
    "    model.add(layers.Dense(1, activation='sigmoid'))\n",
    "\n",
    "    return model"
   ]
  },
  {
   "cell_type": "code",
   "execution_count": 4,
   "metadata": {},
   "outputs": [
    {
     "output_type": "stream",
     "name": "stdout",
     "text": "Model: \"sequential\"\n_________________________________________________________________\nLayer (type)                 Output Shape              Param #   \n=================================================================\nembedding (Embedding)        (None, 200, 256)          2560000   \n_________________________________________________________________\ndropout (Dropout)            (None, 200, 256)          0         \n_________________________________________________________________\nglobal_max_pooling1d (Global (None, 256)               0         \n_________________________________________________________________\ndense (Dense)                (None, 128)               32896     \n_________________________________________________________________\ndropout_1 (Dropout)          (None, 128)               0         \n_________________________________________________________________\ndense_1 (Dense)              (None, 1)                 129       \n=================================================================\nTotal params: 2,593,025\nTrainable params: 2,593,025\nNon-trainable params: 0\n_________________________________________________________________\n"
    }
   ],
   "source": [
    "(X_train, y_train), (X_test, y_test) = load_data()\n",
    "model = build_model()\n",
    "model.summary()"
   ]
  },
  {
   "cell_type": "code",
   "execution_count": 6,
   "metadata": {},
   "outputs": [
    {
     "output_type": "stream",
     "name": "stdout",
     "text": "Epoch 1/20\n50/50 [==============================] - 18s 360ms/step - loss: 0.0058 - accuracy: 0.9986 - val_loss: 0.5339 - val_accuracy: 0.8496\nEpoch 2/20\n50/50 [==============================] - 18s 358ms/step - loss: 0.0037 - accuracy: 0.9993 - val_loss: 0.5787 - val_accuracy: 0.8475\nEpoch 3/20\n50/50 [==============================] - 18s 360ms/step - loss: 0.0033 - accuracy: 0.9993 - val_loss: 0.6037 - val_accuracy: 0.8458\nEpoch 4/20\n50/50 [==============================] - 18s 360ms/step - loss: 0.0029 - accuracy: 0.9994 - val_loss: 0.6280 - val_accuracy: 0.8448\nEpoch 5/20\n50/50 [==============================] - 18s 359ms/step - loss: 0.0025 - accuracy: 0.9996 - val_loss: 0.6831 - val_accuracy: 0.8382\nEpoch 6/20\n50/50 [==============================] - 18s 359ms/step - loss: 0.0024 - accuracy: 0.9992 - val_loss: 0.6615 - val_accuracy: 0.8440\nEpoch 7/20\n50/50 [==============================] - 18s 360ms/step - loss: 0.0018 - accuracy: 0.9996 - val_loss: 0.6922 - val_accuracy: 0.8442\nEpoch 8/20\n50/50 [==============================] - 18s 359ms/step - loss: 0.0017 - accuracy: 0.9997 - val_loss: 0.7040 - val_accuracy: 0.8435\nEpoch 9/20\n50/50 [==============================] - 18s 360ms/step - loss: 0.0018 - accuracy: 0.9996 - val_loss: 0.7322 - val_accuracy: 0.8400\nEpoch 10/20\n50/50 [==============================] - 18s 359ms/step - loss: 0.0015 - accuracy: 0.9996 - val_loss: 0.7312 - val_accuracy: 0.8425\nEpoch 11/20\n50/50 [==============================] - 18s 359ms/step - loss: 0.0014 - accuracy: 0.9997 - val_loss: 0.7593 - val_accuracy: 0.8413\nEpoch 12/20\n50/50 [==============================] - 18s 359ms/step - loss: 0.0016 - accuracy: 0.9995 - val_loss: 0.7424 - val_accuracy: 0.8416\nEpoch 13/20\n50/50 [==============================] - 18s 359ms/step - loss: 0.0019 - accuracy: 0.9994 - val_loss: 0.7599 - val_accuracy: 0.8398\nEpoch 14/20\n50/50 [==============================] - 18s 359ms/step - loss: 0.0014 - accuracy: 0.9996 - val_loss: 0.7857 - val_accuracy: 0.8388\nEpoch 15/20\n50/50 [==============================] - 18s 359ms/step - loss: 0.0014 - accuracy: 0.9997 - val_loss: 0.8024 - val_accuracy: 0.8380\nEpoch 16/20\n50/50 [==============================] - 18s 365ms/step - loss: 0.0014 - accuracy: 0.9996 - val_loss: 0.8045 - val_accuracy: 0.8375\nEpoch 17/20\n50/50 [==============================] - 18s 361ms/step - loss: 0.0017 - accuracy: 0.9995 - val_loss: 0.8049 - val_accuracy: 0.8403\nEpoch 18/20\n50/50 [==============================] - 18s 362ms/step - loss: 0.0015 - accuracy: 0.9997 - val_loss: 0.8645 - val_accuracy: 0.8348\nEpoch 19/20\n50/50 [==============================] - 18s 359ms/step - loss: 0.0020 - accuracy: 0.9994 - val_loss: 0.8195 - val_accuracy: 0.8374\nEpoch 20/20\n50/50 [==============================] - 18s 363ms/step - loss: 0.0014 - accuracy: 0.9996 - val_loss: 0.8598 - val_accuracy: 0.8365\n50/50 [==============================] - 2s 34ms/step - loss: 0.8598 - accuracy: 0.8365\nTest score: 0.85977 | Test accuracy: 0.83648\n\n"
    }
   ],
   "source": [
    "# run model\n",
    "model.compile(optimizer='adam', loss='binary_crossentropy', metrics=['accuracy'])\n",
    "\n",
    "score = model.fit(X_train, y_train,\n",
    "                epochs=EPOCHS,\n",
    "                batch_size=BATCH_SIZE,\n",
    "                validation_data=(X_test, y_test))\n",
    "\n",
    "score = model.evaluate(X_test, y_test, batch_size=BATCH_SIZE)\n",
    "print('Test score: {:1.5f} | Test accuracy: {:1.5f}\\n'.format(score[0], score[1]))"
   ]
  },
  {
   "cell_type": "code",
   "execution_count": null,
   "metadata": {},
   "outputs": [],
   "source": []
  }
 ],
 "metadata": {
  "language_info": {
   "codemirror_mode": {
    "name": "ipython",
    "version": 3
   },
   "file_extension": ".py",
   "mimetype": "text/x-python",
   "name": "python",
   "nbconvert_exporter": "python",
   "pygments_lexer": "ipython3",
   "version": "3.7.5-final"
  },
  "orig_nbformat": 2,
  "kernelspec": {
   "name": "python37564bitpy3virtualenvaac0e3bff6c8464281fa7b840f07374a",
   "display_name": "Python 3.7.5 64-bit ('py3': virtualenv)"
  }
 },
 "nbformat": 4,
 "nbformat_minor": 2
}