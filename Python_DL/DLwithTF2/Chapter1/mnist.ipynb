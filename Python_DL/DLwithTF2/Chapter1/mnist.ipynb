{
 "cells": [
  {
   "cell_type": "code",
   "execution_count": 1,
   "metadata": {},
   "outputs": [],
   "source": [
    "# import essential packages\n",
    "import tensorflow as tf \n",
    "import numpy as np \n",
    "import tensorflow.keras as keras \n",
    "\n",
    "# for reproducibility\n",
    "np.random.seed(42)"
   ]
  },
  {
   "cell_type": "code",
   "execution_count": 2,
   "metadata": {},
   "outputs": [],
   "source": [
    "# define global variables\n",
    "EPOCHS = 50\n",
    "BATCH_SIZE = 128\n",
    "VERBOSE = 1\n",
    "NB_CLASSES = 10 # number of outputs = number of digits. 10 digits from 0-9\n",
    "N_HIDDEN = 128\n",
    "VALIDATION_SPLIT= 0.2 # how much train is reserved for validation"
   ]
  },
  {
   "cell_type": "code",
   "execution_count": 3,
   "metadata": {},
   "outputs": [
    {
     "output_type": "stream",
     "name": "stdout",
     "text": "train samples: 60000\ntest samples: 10000\n"
    }
   ],
   "source": [
    "# loading MNIST dataset\n",
    "mnist = keras.datasets.mnist\n",
    "(X_train, y_train), (X_test, y_test) = mnist.load_data()\n",
    "print('train samples: {}'.format(X_train.shape[0]))\n",
    "print('test samples: {}'.format(X_test.shape[0]))"
   ]
  },
  {
   "cell_type": "code",
   "execution_count": 4,
   "metadata": {},
   "outputs": [],
   "source": [
    "X_train = X_train.astype('float32')\n",
    "X_test = X_test.astype('float32')\n",
    "# normalize \n",
    "X_train = X_train / 255.0\n",
    "X_test = X_test / 255.0\n",
    "\n",
    "# X_train is 60000 rows of 28x28 -> reshape in 60000x784\n",
    "RESHAPED=784\n",
    "\n",
    "X_train = X_train.reshape(60000, RESHAPED)\n",
    "X_test = X_test.reshape(10000, RESHAPED)"
   ]
  },
  {
   "cell_type": "code",
   "execution_count": 5,
   "metadata": {},
   "outputs": [],
   "source": [
    "y_train = y_train.astype('float32')\n",
    "y_test = y_test.astype('float32')\n"
   ]
  },
  {
   "cell_type": "code",
   "execution_count": 6,
   "metadata": {},
   "outputs": [
    {
     "output_type": "stream",
     "name": "stdout",
     "text": "Model: \"sequential\"\n_________________________________________________________________\nLayer (type)                 Output Shape              Param #   \n=================================================================\ndense_layer (Dense)          (None, 10)                7850      \n=================================================================\nTotal params: 7,850\nTrainable params: 7,850\nNon-trainable params: 0\n_________________________________________________________________\n"
    }
   ],
   "source": [
    "# make model\n",
    "model = keras.models.Sequential()\n",
    "model.add(keras.layers.Dense(NB_CLASSES,\n",
    "   \t\tinput_shape=(RESHAPED,),\n",
    "   \t\tname='dense_layer', activation='softmax'))\n",
    "\n",
    "model.summary()"
   ]
  },
  {
   "cell_type": "code",
   "execution_count": 7,
   "metadata": {},
   "outputs": [
    {
     "output_type": "stream",
     "name": "stdout",
     "text": "Epoch 1/50\n375/375 [==============================] - 1s 3ms/step - loss: 1.3662 - accuracy: 0.6706 - val_loss: 0.8922 - val_accuracy: 0.8255\nEpoch 2/50\n375/375 [==============================] - 1s 3ms/step - loss: 0.7914 - accuracy: 0.8282 - val_loss: 0.6573 - val_accuracy: 0.8577\nEpoch 3/50\n375/375 [==============================] - 1s 2ms/step - loss: 0.6425 - accuracy: 0.8514 - val_loss: 0.5619 - val_accuracy: 0.8688\nEpoch 4/50\n375/375 [==============================] - 1s 2ms/step - loss: 0.5703 - accuracy: 0.8614 - val_loss: 0.5091 - val_accuracy: 0.8764\nEpoch 5/50\n375/375 [==============================] - 1s 3ms/step - loss: 0.5264 - accuracy: 0.8683 - val_loss: 0.4750 - val_accuracy: 0.8825\nEpoch 6/50\n375/375 [==============================] - 1s 2ms/step - loss: 0.4961 - accuracy: 0.8735 - val_loss: 0.4509 - val_accuracy: 0.8867\nEpoch 7/50\n375/375 [==============================] - 1s 3ms/step - loss: 0.4739 - accuracy: 0.8771 - val_loss: 0.4328 - val_accuracy: 0.8892\nEpoch 8/50\n375/375 [==============================] - 1s 3ms/step - loss: 0.4566 - accuracy: 0.8801 - val_loss: 0.4185 - val_accuracy: 0.8920\nEpoch 9/50\n375/375 [==============================] - 1s 3ms/step - loss: 0.4427 - accuracy: 0.8829 - val_loss: 0.4070 - val_accuracy: 0.8932\nEpoch 10/50\n375/375 [==============================] - 1s 3ms/step - loss: 0.4311 - accuracy: 0.8848 - val_loss: 0.3973 - val_accuracy: 0.8956\nEpoch 11/50\n375/375 [==============================] - 1s 2ms/step - loss: 0.4214 - accuracy: 0.8871 - val_loss: 0.3891 - val_accuracy: 0.8966\nEpoch 12/50\n375/375 [==============================] - 1s 2ms/step - loss: 0.4130 - accuracy: 0.8888 - val_loss: 0.3823 - val_accuracy: 0.8984\nEpoch 13/50\n375/375 [==============================] - 1s 3ms/step - loss: 0.4057 - accuracy: 0.8904 - val_loss: 0.3762 - val_accuracy: 0.8998\nEpoch 14/50\n375/375 [==============================] - 1s 2ms/step - loss: 0.3993 - accuracy: 0.8918 - val_loss: 0.3709 - val_accuracy: 0.9011\nEpoch 15/50\n375/375 [==============================] - 1s 3ms/step - loss: 0.3935 - accuracy: 0.8930 - val_loss: 0.3660 - val_accuracy: 0.9022\nEpoch 16/50\n375/375 [==============================] - 1s 3ms/step - loss: 0.3884 - accuracy: 0.8941 - val_loss: 0.3616 - val_accuracy: 0.9028\nEpoch 17/50\n375/375 [==============================] - 1s 3ms/step - loss: 0.3837 - accuracy: 0.8949 - val_loss: 0.3577 - val_accuracy: 0.9037\nEpoch 18/50\n375/375 [==============================] - 1s 3ms/step - loss: 0.3794 - accuracy: 0.8961 - val_loss: 0.3543 - val_accuracy: 0.9043\nEpoch 19/50\n375/375 [==============================] - 1s 3ms/step - loss: 0.3755 - accuracy: 0.8970 - val_loss: 0.3511 - val_accuracy: 0.9053\nEpoch 20/50\n375/375 [==============================] - 1s 3ms/step - loss: 0.3719 - accuracy: 0.8979 - val_loss: 0.3480 - val_accuracy: 0.9062\nEpoch 21/50\n375/375 [==============================] - 1s 2ms/step - loss: 0.3685 - accuracy: 0.8984 - val_loss: 0.3452 - val_accuracy: 0.9064\nEpoch 22/50\n375/375 [==============================] - 1s 3ms/step - loss: 0.3654 - accuracy: 0.8992 - val_loss: 0.3426 - val_accuracy: 0.9075\nEpoch 23/50\n375/375 [==============================] - 1s 3ms/step - loss: 0.3625 - accuracy: 0.8999 - val_loss: 0.3403 - val_accuracy: 0.9080\nEpoch 24/50\n375/375 [==============================] - 1s 3ms/step - loss: 0.3598 - accuracy: 0.9003 - val_loss: 0.3380 - val_accuracy: 0.9082\nEpoch 25/50\n375/375 [==============================] - 1s 2ms/step - loss: 0.3574 - accuracy: 0.9010 - val_loss: 0.3359 - val_accuracy: 0.9088\nEpoch 26/50\n375/375 [==============================] - 1s 3ms/step - loss: 0.3550 - accuracy: 0.9014 - val_loss: 0.3340 - val_accuracy: 0.9095\nEpoch 27/50\n375/375 [==============================] - 1s 3ms/step - loss: 0.3527 - accuracy: 0.9021 - val_loss: 0.3322 - val_accuracy: 0.9101\nEpoch 28/50\n375/375 [==============================] - 1s 3ms/step - loss: 0.3506 - accuracy: 0.9026 - val_loss: 0.3304 - val_accuracy: 0.9101\nEpoch 29/50\n375/375 [==============================] - 1s 2ms/step - loss: 0.3486 - accuracy: 0.9034 - val_loss: 0.3287 - val_accuracy: 0.9111\nEpoch 30/50\n375/375 [==============================] - 1s 3ms/step - loss: 0.3466 - accuracy: 0.9040 - val_loss: 0.3273 - val_accuracy: 0.9104\nEpoch 31/50\n375/375 [==============================] - 1s 3ms/step - loss: 0.3448 - accuracy: 0.9043 - val_loss: 0.3257 - val_accuracy: 0.9109\nEpoch 32/50\n375/375 [==============================] - 1s 2ms/step - loss: 0.3431 - accuracy: 0.9047 - val_loss: 0.3243 - val_accuracy: 0.9118\nEpoch 33/50\n375/375 [==============================] - 1s 3ms/step - loss: 0.3414 - accuracy: 0.9051 - val_loss: 0.3230 - val_accuracy: 0.9117\nEpoch 34/50\n375/375 [==============================] - 1s 3ms/step - loss: 0.3399 - accuracy: 0.9057 - val_loss: 0.3216 - val_accuracy: 0.9121\nEpoch 35/50\n375/375 [==============================] - 1s 2ms/step - loss: 0.3383 - accuracy: 0.9058 - val_loss: 0.3204 - val_accuracy: 0.9121\nEpoch 36/50\n375/375 [==============================] - 1s 3ms/step - loss: 0.3369 - accuracy: 0.9062 - val_loss: 0.3193 - val_accuracy: 0.9130\nEpoch 37/50\n375/375 [==============================] - 1s 3ms/step - loss: 0.3355 - accuracy: 0.9069 - val_loss: 0.3181 - val_accuracy: 0.9128\nEpoch 38/50\n375/375 [==============================] - 1s 3ms/step - loss: 0.3342 - accuracy: 0.9071 - val_loss: 0.3171 - val_accuracy: 0.9133\nEpoch 39/50\n375/375 [==============================] - 1s 2ms/step - loss: 0.3329 - accuracy: 0.9078 - val_loss: 0.3160 - val_accuracy: 0.9140\nEpoch 40/50\n375/375 [==============================] - 1s 3ms/step - loss: 0.3316 - accuracy: 0.9078 - val_loss: 0.3151 - val_accuracy: 0.9132\nEpoch 41/50\n375/375 [==============================] - 1s 2ms/step - loss: 0.3305 - accuracy: 0.9084 - val_loss: 0.3142 - val_accuracy: 0.9135\nEpoch 42/50\n375/375 [==============================] - 1s 2ms/step - loss: 0.3293 - accuracy: 0.9084 - val_loss: 0.3132 - val_accuracy: 0.9139\nEpoch 43/50\n375/375 [==============================] - 1s 3ms/step - loss: 0.3282 - accuracy: 0.9093 - val_loss: 0.3124 - val_accuracy: 0.9142\nEpoch 44/50\n375/375 [==============================] - 1s 2ms/step - loss: 0.3271 - accuracy: 0.9091 - val_loss: 0.3115 - val_accuracy: 0.9142\nEpoch 45/50\n375/375 [==============================] - 1s 2ms/step - loss: 0.3261 - accuracy: 0.9094 - val_loss: 0.3106 - val_accuracy: 0.9144\nEpoch 46/50\n375/375 [==============================] - 1s 2ms/step - loss: 0.3251 - accuracy: 0.9096 - val_loss: 0.3099 - val_accuracy: 0.9147\nEpoch 47/50\n375/375 [==============================] - 1s 3ms/step - loss: 0.3241 - accuracy: 0.9100 - val_loss: 0.3091 - val_accuracy: 0.9147\nEpoch 48/50\n375/375 [==============================] - 1s 2ms/step - loss: 0.3232 - accuracy: 0.9103 - val_loss: 0.3084 - val_accuracy: 0.9147\nEpoch 49/50\n375/375 [==============================] - 1s 2ms/step - loss: 0.3223 - accuracy: 0.9104 - val_loss: 0.3077 - val_accuracy: 0.9147\nEpoch 50/50\n375/375 [==============================] - 1s 2ms/step - loss: 0.3214 - accuracy: 0.9107 - val_loss: 0.3070 - val_accuracy: 0.9146\n313/313 [==============================] - 1s 2ms/step - loss: 0.3067 - accuracy: 0.9162\nTest loss : 0.30670 | Test accuracy : 0.91620\n"
    }
   ],
   "source": [
    "# compile\n",
    "model.compile(optimizer='SGD', \n",
    "              loss='sparse_categorical_crossentropy',\n",
    "              metrics=['accuracy'])\n",
    "\n",
    "# train the model\n",
    "model.fit(X_train, y_train,\n",
    "        epochs=EPOCHS,\n",
    "        batch_size=BATCH_SIZE,\n",
    "        verbose=VERBOSE,\n",
    "        validation_split=VALIDATION_SPLIT)\n",
    "\n",
    "# evaluate the model\n",
    "test_loss, test_acc = model.evaluate(X_test, y_test)\n",
    "print('Test loss : {:1.5f} | Test accuracy : {:1.5f}'.format(test_loss, test_acc))\n",
    "\n",
    "# making prediction\n",
    "predictions = model.predict(X_test)"
   ]
  },
  {
   "cell_type": "code",
   "execution_count": null,
   "metadata": {},
   "outputs": [],
   "source": [
    "print(predictions.shape)"
   ]
  },
  {
   "cell_type": "code",
   "execution_count": null,
   "metadata": {},
   "outputs": [],
   "source": []
  }
 ],
 "metadata": {
  "language_info": {
   "codemirror_mode": {
    "name": "ipython",
    "version": 3
   },
   "file_extension": ".py",
   "mimetype": "text/x-python",
   "name": "python",
   "nbconvert_exporter": "python",
   "pygments_lexer": "ipython3",
   "version": "3.7.5-final"
  },
  "orig_nbformat": 2,
  "kernelspec": {
   "name": "python37564bitpy3virtualenvaac0e3bff6c8464281fa7b840f07374a",
   "display_name": "Python 3.7.5 64-bit ('py3': virtualenv)"
  }
 },
 "nbformat": 4,
 "nbformat_minor": 2
}