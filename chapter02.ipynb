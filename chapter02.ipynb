{
  "nbformat": 4,
  "nbformat_minor": 0,
  "metadata": {
    "colab": {
      "name": "chapter02.ipynb",
      "provenance": [],
      "authorship_tag": "ABX9TyOyQ+sAP4fYN61fIf3v9q96"
    },
    "kernelspec": {
      "name": "python3",
      "display_name": "Python 3"
    },
    "accelerator": "GPU"
  },
  "cells": [
    {
      "cell_type": "markdown",
      "metadata": {
        "id": "tBNnr5FAcbeU",
        "colab_type": "text"
      },
      "source": [
        "# Gradient Tape"
      ]
    },
    {
      "cell_type": "code",
      "metadata": {
        "id": "mhVgj0DUcfa5",
        "colab_type": "code",
        "colab": {
          "base_uri": "https://localhost:8080/",
          "height": 51
        },
        "outputId": "a8ae3bc1-d7db-47d4-fb61-193a724454ea"
      },
      "source": [
        "import tensorflow as tf \n",
        "\n",
        "x = tf.constant(4.0)\n",
        "\n",
        "with tf.GradientTape(persistent=True) as g:\n",
        "  g.watch(x)\n",
        "  y = x * x\n",
        "  z = y * y\n",
        "\n",
        "dz_dx = g.gradient(z, x) \n",
        "dy_dx = g.gradient(y, x)\n",
        "\n",
        "print(dz_dx)\n",
        "print(dy_dx)\n",
        "\n",
        "del g # Drop the reference to the tape"
      ],
      "execution_count": 1,
      "outputs": [
        {
          "output_type": "stream",
          "text": [
            "tf.Tensor(256.0, shape=(), dtype=float32)\n",
            "tf.Tensor(8.0, shape=(), dtype=float32)\n"
          ],
          "name": "stdout"
        }
      ]
    }
  ]
}