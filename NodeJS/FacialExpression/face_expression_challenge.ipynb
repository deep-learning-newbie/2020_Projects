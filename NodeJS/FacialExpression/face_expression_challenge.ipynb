{
 "cells": [
  {
   "cell_type": "code",
   "execution_count": 2,
   "metadata": {},
   "outputs": [],
   "source": [
    "import tensorflow as tf \n",
    "import tensorflow.keras \n",
    "from tensorflow.keras.models import Sequential, Model, model_from_json\n",
    "from tensorflow.keras.layers import Dense, Conv2D, Activation, MaxPool2D, Flatten, Dropout, BatchNormalization\n",
    "\n",
    "import numpy as np \n",
    "import pandas as pd"
   ]
  },
  {
   "cell_type": "code",
   "execution_count": 3,
   "metadata": {},
   "outputs": [
    {
     "output_type": "execute_result",
     "data": {
      "text/plain": "   emotion                                             pixels     Usage\n0        0  70 80 82 72 58 58 60 63 54 58 60 48 89 115 121...  Training\n1        0  151 150 147 155 148 133 111 140 170 174 182 15...  Training\n2        2  231 212 156 164 174 138 161 173 182 200 106 38...  Training\n3        4  24 32 36 30 32 23 19 20 30 41 21 22 32 34 21 1...  Training\n4        6  4 0 0 0 0 0 0 0 0 0 0 0 3 15 23 28 48 50 58 84...  Training",
      "text/html": "<div>\n<style scoped>\n    .dataframe tbody tr th:only-of-type {\n        vertical-align: middle;\n    }\n\n    .dataframe tbody tr th {\n        vertical-align: top;\n    }\n\n    .dataframe thead th {\n        text-align: right;\n    }\n</style>\n<table border=\"1\" class=\"dataframe\">\n  <thead>\n    <tr style=\"text-align: right;\">\n      <th></th>\n      <th>emotion</th>\n      <th>pixels</th>\n      <th>Usage</th>\n    </tr>\n  </thead>\n  <tbody>\n    <tr>\n      <th>0</th>\n      <td>0</td>\n      <td>70 80 82 72 58 58 60 63 54 58 60 48 89 115 121...</td>\n      <td>Training</td>\n    </tr>\n    <tr>\n      <th>1</th>\n      <td>0</td>\n      <td>151 150 147 155 148 133 111 140 170 174 182 15...</td>\n      <td>Training</td>\n    </tr>\n    <tr>\n      <th>2</th>\n      <td>2</td>\n      <td>231 212 156 164 174 138 161 173 182 200 106 38...</td>\n      <td>Training</td>\n    </tr>\n    <tr>\n      <th>3</th>\n      <td>4</td>\n      <td>24 32 36 30 32 23 19 20 30 41 21 22 32 34 21 1...</td>\n      <td>Training</td>\n    </tr>\n    <tr>\n      <th>4</th>\n      <td>6</td>\n      <td>4 0 0 0 0 0 0 0 0 0 0 0 3 15 23 28 48 50 58 84...</td>\n      <td>Training</td>\n    </tr>\n  </tbody>\n</table>\n</div>"
     },
     "metadata": {},
     "execution_count": 3
    }
   ],
   "source": [
    "IM_PATH = 'D:/Workspace/Datasets/Faces/FacialExpression/fer2013.csv'\n",
    "\n",
    "df = pd.read_csv(IM_PATH)\n",
    "df.head()"
   ]
  },
  {
   "cell_type": "code",
   "execution_count": 4,
   "metadata": {},
   "outputs": [
    {
     "output_type": "execute_result",
     "data": {
      "text/plain": "Training       28709\nPrivateTest     3589\nPublicTest      3589\nName: Usage, dtype: int64"
     },
     "metadata": {},
     "execution_count": 4
    }
   ],
   "source": [
    "df['Usage'].value_counts()"
   ]
  },
  {
   "cell_type": "code",
   "execution_count": 5,
   "metadata": {},
   "outputs": [
    {
     "output_type": "execute_result",
     "data": {
      "text/plain": "(28709, 2)"
     },
     "metadata": {},
     "execution_count": 5
    }
   ],
   "source": [
    "train = df[['emotion', 'pixels']][df['Usage'] == 'Training']\n",
    "train.isnull().sum()\n",
    "train.shape"
   ]
  },
  {
   "cell_type": "code",
   "execution_count": 6,
   "metadata": {},
   "outputs": [
    {
     "output_type": "execute_result",
     "data": {
      "text/plain": "0        [70.0, 80.0, 82.0, 72.0, 58.0, 58.0, 60.0, 63....\n1        [151.0, 150.0, 147.0, 155.0, 148.0, 133.0, 111...\n2        [231.0, 212.0, 156.0, 164.0, 174.0, 138.0, 161...\n3        [24.0, 32.0, 36.0, 30.0, 32.0, 23.0, 19.0, 20....\n4        [4.0, 0.0, 0.0, 0.0, 0.0, 0.0, 0.0, 0.0, 0.0, ...\n                               ...                        \n28704    [84.0, 85.0, 85.0, 85.0, 85.0, 85.0, 85.0, 85....\n28705    [114.0, 112.0, 113.0, 113.0, 111.0, 111.0, 112...\n28706    [74.0, 81.0, 87.0, 89.0, 95.0, 100.0, 98.0, 93...\n28707    [222.0, 227.0, 203.0, 90.0, 86.0, 90.0, 84.0, ...\n28708    [195.0, 199.0, 205.0, 206.0, 205.0, 203.0, 206...\nName: pixels, Length: 28709, dtype: object"
     },
     "metadata": {},
     "execution_count": 6
    }
   ],
   "source": [
    "train['pixels'] = train['pixels'].apply(lambda im: np.fromstring(im, sep=' '))\n",
    "\n",
    "train['pixels']"
   ]
  },
  {
   "cell_type": "code",
   "execution_count": 7,
   "metadata": {},
   "outputs": [
    {
     "output_type": "execute_result",
     "data": {
      "text/plain": "((28709, 2304), (28709,))"
     },
     "metadata": {},
     "execution_count": 7
    }
   ],
   "source": [
    "x_train = np.vstack(train['pixels'].values)\n",
    "y_train = np.array(train['emotion'])\n",
    "x_train.shape, y_train.shape"
   ]
  },
  {
   "cell_type": "code",
   "execution_count": 8,
   "metadata": {},
   "outputs": [],
   "source": [
    "public_test_df = df[['emotion', 'pixels']][df['Usage']=='PublicTest']"
   ]
  },
  {
   "cell_type": "code",
   "execution_count": 9,
   "metadata": {},
   "outputs": [
    {
     "output_type": "execute_result",
     "data": {
      "text/plain": "((28709, 48, 48, 1), (3589, 48, 48, 1))"
     },
     "metadata": {},
     "execution_count": 9
    }
   ],
   "source": [
    "public_test_df['pixels'] = public_test_df['pixels'].apply(lambda im: np.fromstring(im, sep=' '))\n",
    "x_test = np.vstack(public_test_df['pixels'].values)\n",
    "y_test = np.array(public_test_df['emotion'])\n",
    "\n",
    "x_train = x_train.reshape(-1, 48, 48, 1)\n",
    "x_test = x_test.reshape(-1, 48, 48, 1)\n",
    "x_train.shape, x_test.shape"
   ]
  },
  {
   "cell_type": "code",
   "execution_count": 10,
   "metadata": {},
   "outputs": [
    {
     "output_type": "execute_result",
     "data": {
      "text/plain": "((28709, 7), (3589, 7))"
     },
     "metadata": {},
     "execution_count": 10
    }
   ],
   "source": [
    "y_train = tf.keras.utils.to_categorical(y_train)\n",
    "y_test = tf.keras.utils.to_categorical(y_test)\n",
    "y_train.shape, y_test.shape"
   ]
  },
  {
   "cell_type": "code",
   "execution_count": 11,
   "metadata": {},
   "outputs": [
    {
     "output_type": "display_data",
     "data": {
      "text/plain": "<Figure size 1200x600 with 12 Axes>"
     },
     "metadata": {}
    }
   ],
   "source": [
    "import seaborn as sns \n",
    "import matplotlib.pyplot as plt \n",
    "\n",
    "\n",
    "plt.figure(0, figsize=(12, 6))\n",
    "\n",
    "for i in range(1, 13):\n",
    "    plt.subplot(3, 4, i)\n",
    "    plt.imshow(x_train[i, :, :, 0], cmap='gray')\n",
    "\n",
    "plt.tight_layout()\n",
    "plt.show()"
   ]
  },
  {
   "cell_type": "code",
   "execution_count": 12,
   "metadata": {},
   "outputs": [
    {
     "output_type": "stream",
     "name": "stdout",
     "text": "Model: \"sequential\"\n_________________________________________________________________\nLayer (type)                 Output Shape              Param #   \n=================================================================\nconv2d (Conv2D)              (None, 46, 46, 64)        640       \n_________________________________________________________________\nbatch_normalization (BatchNo (None, 46, 46, 64)        256       \n_________________________________________________________________\nactivation (Activation)      (None, 46, 46, 64)        0         \n_________________________________________________________________\nconv2d_1 (Conv2D)            (None, 44, 44, 64)        36928     \n_________________________________________________________________\nbatch_normalization_1 (Batch (None, 44, 44, 64)        256       \n_________________________________________________________________\nactivation_1 (Activation)    (None, 44, 44, 64)        0         \n_________________________________________________________________\nmax_pooling2d (MaxPooling2D) (None, 22, 22, 64)        0         \n_________________________________________________________________\ndropout (Dropout)            (None, 22, 22, 64)        0         \n_________________________________________________________________\nconv2d_2 (Conv2D)            (None, 20, 20, 32)        18464     \n_________________________________________________________________\nbatch_normalization_2 (Batch (None, 20, 20, 32)        128       \n_________________________________________________________________\nactivation_2 (Activation)    (None, 20, 20, 32)        0         \n_________________________________________________________________\nconv2d_3 (Conv2D)            (None, 18, 18, 32)        9248      \n_________________________________________________________________\nbatch_normalization_3 (Batch (None, 18, 18, 32)        128       \n_________________________________________________________________\nactivation_3 (Activation)    (None, 18, 18, 32)        0         \n_________________________________________________________________\nconv2d_4 (Conv2D)            (None, 16, 16, 32)        9248      \n_________________________________________________________________\nbatch_normalization_4 (Batch (None, 16, 16, 32)        128       \n_________________________________________________________________\nactivation_4 (Activation)    (None, 16, 16, 32)        0         \n_________________________________________________________________\nmax_pooling2d_1 (MaxPooling2 (None, 8, 8, 32)          0         \n_________________________________________________________________\ndropout_1 (Dropout)          (None, 8, 8, 32)          0         \n_________________________________________________________________\nflatten (Flatten)            (None, 2048)              0         \n_________________________________________________________________\ndense (Dense)                (None, 128)               262272    \n_________________________________________________________________\nbatch_normalization_5 (Batch (None, 128)               512       \n_________________________________________________________________\nactivation_5 (Activation)    (None, 128)               0         \n_________________________________________________________________\ndropout_2 (Dropout)          (None, 128)               0         \n_________________________________________________________________\ndense_1 (Dense)              (None, 7)                 903       \n_________________________________________________________________\nactivation_6 (Activation)    (None, 7)                 0         \n=================================================================\nTotal params: 339,111\nTrainable params: 338,407\nNon-trainable params: 704\n_________________________________________________________________\n"
    }
   ],
   "source": [
    "# Create model\n",
    "model = Sequential()\n",
    "\n",
    "model.add(Conv2D(64, (3, 3), input_shape=(48, 48, 1)))\n",
    "model.add(BatchNormalization())\n",
    "model.add(Activation('relu'))\n",
    "\n",
    "model.add(Conv2D(64, 3))\n",
    "model.add(BatchNormalization())\n",
    "model.add(Activation(\"relu\"))\n",
    "model.add(MaxPool2D(pool_size=(2, 2), strides=2))\n",
    "model.add(Dropout(0.6))\n",
    "\n",
    "model.add(Conv2D(32, 3))\n",
    "model.add(BatchNormalization())\n",
    "model.add(Activation(\"relu\"))\n",
    "\n",
    "model.add(Conv2D(32, 3))\n",
    "model.add(BatchNormalization())\n",
    "model.add(Activation(\"relu\"))\n",
    "\n",
    "model.add(Conv2D(32, 3))\n",
    "model.add(BatchNormalization())\n",
    "model.add(Activation(\"relu\"))\n",
    "model.add(MaxPool2D(pool_size=(2, 2), strides=2))\n",
    "model.add(Dropout(0.6))\n",
    "\n",
    "model.add(Flatten())\n",
    "model.add(Dense(128))\n",
    "model.add(BatchNormalization())\n",
    "model.add(Activation(\"relu\"))\n",
    "model.add(Dropout(0.6))\n",
    "\n",
    "model.add(Dense(7))\n",
    "model.add(Activation('softmax'))\n",
    "\n",
    "model.compile(loss='categorical_crossentropy', optimizer='adam', metrics=['accuracy'])\n",
    "model.summary()"
   ]
  },
  {
   "cell_type": "code",
   "execution_count": 13,
   "metadata": {},
   "outputs": [
    {
     "output_type": "stream",
     "name": "stdout",
     "text": "Epoch 1/10\n288/288 [==============================] - ETA: 0s - loss: 2.0036 - accuracy: 0.2572\nEpoch 00001: val_loss improved from inf to 1.68081, saving model to checkpoints/face_model.h5\n288/288 [==============================] - 17s 58ms/step - loss: 2.0036 - accuracy: 0.2572 - val_loss: 1.6808 - val_accuracy: 0.3527\nEpoch 2/10\n288/288 [==============================] - ETA: 0s - loss: 1.6498 - accuracy: 0.3537\nEpoch 00002: val_loss improved from 1.68081 to 1.57245, saving model to checkpoints/face_model.h5\n288/288 [==============================] - 14s 50ms/step - loss: 1.6498 - accuracy: 0.3537 - val_loss: 1.5724 - val_accuracy: 0.3817\nEpoch 3/10\n287/288 [============================>.] - ETA: 0s - loss: 1.5436 - accuracy: 0.3956\nEpoch 00003: val_loss improved from 1.57245 to 1.50803, saving model to checkpoints/face_model.h5\n288/288 [==============================] - 15s 51ms/step - loss: 1.5437 - accuracy: 0.3955 - val_loss: 1.5080 - val_accuracy: 0.4157\nEpoch 4/10\n287/288 [============================>.] - ETA: 0s - loss: 1.4750 - accuracy: 0.4273\nEpoch 00004: val_loss did not improve from 1.50803\n288/288 [==============================] - 14s 49ms/step - loss: 1.4751 - accuracy: 0.4273 - val_loss: 1.6589 - val_accuracy: 0.3798\nEpoch 5/10\n288/288 [==============================] - ETA: 0s - loss: 1.4138 - accuracy: 0.4550\nEpoch 00005: val_loss improved from 1.50803 to 1.49632, saving model to checkpoints/face_model.h5\n288/288 [==============================] - 14s 49ms/step - loss: 1.4138 - accuracy: 0.4550 - val_loss: 1.4963 - val_accuracy: 0.4313\nEpoch 6/10\n288/288 [==============================] - ETA: 0s - loss: 1.3705 - accuracy: 0.4737\nEpoch 00006: val_loss improved from 1.49632 to 1.41860, saving model to checkpoints/face_model.h5\n288/288 [==============================] - 13s 45ms/step - loss: 1.3705 - accuracy: 0.4737 - val_loss: 1.4186 - val_accuracy: 0.4419\nEpoch 7/10\n288/288 [==============================] - ETA: 0s - loss: 1.3419 - accuracy: 0.4881\nEpoch 00007: val_loss improved from 1.41860 to 1.33782, saving model to checkpoints/face_model.h5\n288/288 [==============================] - 13s 45ms/step - loss: 1.3419 - accuracy: 0.4881 - val_loss: 1.3378 - val_accuracy: 0.4820\nEpoch 8/10\n288/288 [==============================] - ETA: 0s - loss: 1.3183 - accuracy: 0.4921\nEpoch 00008: val_loss improved from 1.33782 to 1.24700, saving model to checkpoints/face_model.h5\n288/288 [==============================] - 13s 46ms/step - loss: 1.3183 - accuracy: 0.4921 - val_loss: 1.2470 - val_accuracy: 0.5163\nEpoch 9/10\n288/288 [==============================] - ETA: 0s - loss: 1.2935 - accuracy: 0.5032\nEpoch 00009: val_loss did not improve from 1.24700\n288/288 [==============================] - 13s 45ms/step - loss: 1.2935 - accuracy: 0.5032 - val_loss: 1.2616 - val_accuracy: 0.5121\nEpoch 10/10\n287/288 [============================>.] - ETA: 0s - loss: 1.2783 - accuracy: 0.5095\nEpoch 00010: val_loss did not improve from 1.24700\n288/288 [==============================] - 13s 45ms/step - loss: 1.2784 - accuracy: 0.5095 - val_loss: 1.2684 - val_accuracy: 0.5135\n"
    }
   ],
   "source": [
    "from tensorflow.keras.callbacks import ModelCheckpoint\n",
    "\n",
    "# save best weights\n",
    "checkpointer = ModelCheckpoint(filepath='checkpoints/face_model.h5', verbose=1, save_best_only=True)\n",
    "\n",
    "# num epochs\n",
    "epochs = 10\n",
    "\n",
    "# run model\n",
    "hist = model.fit(x_train, y_train, epochs=epochs,\n",
    "                 shuffle=True,\n",
    "                 batch_size=100, validation_data=(x_test, y_test),\n",
    "                 callbacks=[checkpointer], verbose=1)\n",
    "\n",
    "# save model to json\n",
    "model_json = model.to_json()\n",
    "with open(\"checkpoints/face_model.json\", \"w\") as json_file:\n",
    "    json_file.write(model_json)"
   ]
  },
  {
   "cell_type": "code",
   "execution_count": 15,
   "metadata": {},
   "outputs": [
    {
     "output_type": "display_data",
     "data": {
      "text/plain": "<Figure size 1008x216 with 2 Axes>",
      "image/png": "[encoded data removed]"
     },
     "metadata": {
      "needs_background": "light"
     }
    }
   ],
   "source": [
    "plt.figure(figsize=(14,3))\n",
    "plt.subplot(1, 2, 1)\n",
    "plt.suptitle('Optimizer : Adam', fontsize=10)\n",
    "plt.ylabel('Loss', fontsize=16)\n",
    "plt.plot(hist.history['loss'], color='b', label='Training Loss')\n",
    "plt.plot(hist.history['val_loss'], color='r', label='Validation Loss')\n",
    "plt.legend(loc='upper right')\n",
    "\n",
    "plt.subplot(1, 2, 2)\n",
    "plt.ylabel('Accuracy', fontsize=16)\n",
    "plt.plot(hist.history['accuracy'], color='b', label='Training Accuracy')\n",
    "plt.plot(hist.history['val_accuracy'], color='r', label='Validation Accuracy')\n",
    "plt.legend(loc='lower right')\n",
    "plt.show()"
   ]
  },
  {
   "cell_type": "code",
   "execution_count": null,
   "metadata": {},
   "outputs": [],
   "source": []
  }
 ],
 "metadata": {
  "language_info": {
   "codemirror_mode": {
    "name": "ipython",
    "version": 3
   },
   "file_extension": ".py",
   "mimetype": "text/x-python",
   "name": "python",
   "nbconvert_exporter": "python",
   "pygments_lexer": "ipython3",
   "version": "3.7.5-final"
  },
  "orig_nbformat": 2,
  "kernelspec": {
   "name": "python37564bitpy3virtualenvaac0e3bff6c8464281fa7b840f07374a",
   "display_name": "Python 3.7.5 64-bit ('py3': virtualenv)"
  }
 },
 "nbformat": 4,
 "nbformat_minor": 2
}